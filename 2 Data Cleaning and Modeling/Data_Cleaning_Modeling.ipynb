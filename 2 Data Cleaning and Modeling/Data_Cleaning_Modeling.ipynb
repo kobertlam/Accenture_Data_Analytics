{
 "cells": [
  {
   "cell_type": "markdown",
   "id": "11424451",
   "metadata": {},
   "source": [
    "# Import Libraries and Upload Data Files"
   ]
  },
  {
   "cell_type": "code",
   "execution_count": 1,
   "id": "eefc7f03",
   "metadata": {},
   "outputs": [],
   "source": [
    "# import libraries\n",
    "import pandas as pd \n",
    "import numpy as np"
   ]
  },
  {
   "cell_type": "code",
   "execution_count": 2,
   "id": "27462c4f",
   "metadata": {},
   "outputs": [],
   "source": [
    "# load all csv tables \n",
    "Content = pd.read_csv(\"Content.csv\", index_col=0)\n",
    "Location = pd.read_csv(\"Location.csv\", index_col=0)\n",
    "Profile = pd.read_csv(\"Profile.csv\", index_col=0)\n",
    "ReactionTypes = pd.read_csv(\"ReactionTypes.csv\", index_col=0)\n",
    "Reactions = pd.read_csv(\"Reactions.csv\", index_col=0, parse_dates=['Datetime'])\n",
    "Session = pd.read_csv(\"Session.csv\", index_col=0)\n",
    "User = pd.read_csv(\"User.csv\", index_col=0)"
   ]
  },
  {
   "cell_type": "markdown",
   "id": "338cd82c",
   "metadata": {},
   "source": [
    "# Explore Data"
   ]
  },
  {
   "cell_type": "code",
   "execution_count": 3,
   "id": "fec4686a",
   "metadata": {},
   "outputs": [
    {
     "data": {
      "text/html": [
       "<div>\n",
       "<style scoped>\n",
       "    .dataframe tbody tr th:only-of-type {\n",
       "        vertical-align: middle;\n",
       "    }\n",
       "\n",
       "    .dataframe tbody tr th {\n",
       "        vertical-align: top;\n",
       "    }\n",
       "\n",
       "    .dataframe thead th {\n",
       "        text-align: right;\n",
       "    }\n",
       "</style>\n",
       "<table border=\"1\" class=\"dataframe\">\n",
       "  <thead>\n",
       "    <tr style=\"text-align: right;\">\n",
       "      <th></th>\n",
       "      <th>Content ID</th>\n",
       "      <th>User ID</th>\n",
       "      <th>Type</th>\n",
       "      <th>Category</th>\n",
       "      <th>URL</th>\n",
       "    </tr>\n",
       "  </thead>\n",
       "  <tbody>\n",
       "    <tr>\n",
       "      <th>0</th>\n",
       "      <td>97522e57-d9ab-4bd6-97bf-c24d952602d2</td>\n",
       "      <td>8d3cd87d-8a31-4935-9a4f-b319bfe05f31</td>\n",
       "      <td>photo</td>\n",
       "      <td>Studying</td>\n",
       "      <td>https://socialbuzz.cdn.com/content/storage/975...</td>\n",
       "    </tr>\n",
       "    <tr>\n",
       "      <th>1</th>\n",
       "      <td>9f737e0a-3cdd-4d29-9d24-753f4e3be810</td>\n",
       "      <td>beb1f34e-7870-46d6-9fc7-2e12eb83ce43</td>\n",
       "      <td>photo</td>\n",
       "      <td>healthy eating</td>\n",
       "      <td>https://socialbuzz.cdn.com/content/storage/9f7...</td>\n",
       "    </tr>\n",
       "    <tr>\n",
       "      <th>2</th>\n",
       "      <td>230c4e4d-70c3-461d-b42c-ec09396efb3f</td>\n",
       "      <td>a5c65404-5894-4b87-82f2-d787cbee86b4</td>\n",
       "      <td>photo</td>\n",
       "      <td>healthy eating</td>\n",
       "      <td>https://socialbuzz.cdn.com/content/storage/230...</td>\n",
       "    </tr>\n",
       "    <tr>\n",
       "      <th>3</th>\n",
       "      <td>356fff80-da4d-4785-9f43-bc1261031dc6</td>\n",
       "      <td>9fb4ce88-fac1-406c-8544-1a899cee7aaf</td>\n",
       "      <td>photo</td>\n",
       "      <td>technology</td>\n",
       "      <td>https://socialbuzz.cdn.com/content/storage/356...</td>\n",
       "    </tr>\n",
       "    <tr>\n",
       "      <th>4</th>\n",
       "      <td>01ab84dd-6364-4236-abbb-3f237db77180</td>\n",
       "      <td>e206e31b-5f85-4964-b6ea-d7ee5324def1</td>\n",
       "      <td>video</td>\n",
       "      <td>food</td>\n",
       "      <td>https://socialbuzz.cdn.com/content/storage/01a...</td>\n",
       "    </tr>\n",
       "  </tbody>\n",
       "</table>\n",
       "</div>"
      ],
      "text/plain": [
       "                             Content ID                               User ID  \\\n",
       "0  97522e57-d9ab-4bd6-97bf-c24d952602d2  8d3cd87d-8a31-4935-9a4f-b319bfe05f31   \n",
       "1  9f737e0a-3cdd-4d29-9d24-753f4e3be810  beb1f34e-7870-46d6-9fc7-2e12eb83ce43   \n",
       "2  230c4e4d-70c3-461d-b42c-ec09396efb3f  a5c65404-5894-4b87-82f2-d787cbee86b4   \n",
       "3  356fff80-da4d-4785-9f43-bc1261031dc6  9fb4ce88-fac1-406c-8544-1a899cee7aaf   \n",
       "4  01ab84dd-6364-4236-abbb-3f237db77180  e206e31b-5f85-4964-b6ea-d7ee5324def1   \n",
       "\n",
       "    Type        Category                                                URL  \n",
       "0  photo        Studying  https://socialbuzz.cdn.com/content/storage/975...  \n",
       "1  photo  healthy eating  https://socialbuzz.cdn.com/content/storage/9f7...  \n",
       "2  photo  healthy eating  https://socialbuzz.cdn.com/content/storage/230...  \n",
       "3  photo      technology  https://socialbuzz.cdn.com/content/storage/356...  \n",
       "4  video            food  https://socialbuzz.cdn.com/content/storage/01a...  "
      ]
     },
     "execution_count": 3,
     "metadata": {},
     "output_type": "execute_result"
    }
   ],
   "source": [
    "# print head of each table\n",
    "Content.head(5)"
   ]
  },
  {
   "cell_type": "code",
   "execution_count": 4,
   "id": "58d3020f",
   "metadata": {},
   "outputs": [
    {
     "name": "stdout",
     "output_type": "stream",
     "text": [
      "['photo' 'video' 'GIF' 'audio']\n",
      "['Studying' 'healthy eating' 'technology' 'food' 'cooking' 'dogs' 'soccer'\n",
      " 'public speaking' 'science' 'tennis' 'travel' 'fitness' 'education'\n",
      " 'studying' 'veganism' 'Animals' 'animals' 'culture' '\"culture\"' 'Fitness'\n",
      " '\"studying\"' 'Veganism' '\"animals\"' 'Travel' '\"soccer\"' 'Education'\n",
      " '\"dogs\"' 'Technology' 'Soccer' '\"tennis\"' 'Culture' '\"food\"' 'Food'\n",
      " '\"technology\"' 'Healthy Eating' '\"cooking\"' 'Science' '\"public speaking\"'\n",
      " '\"veganism\"' 'Public Speaking' '\"science\"']\n"
     ]
    }
   ],
   "source": [
    "print(Content.Type.unique())\n",
    "print(Content.Category.unique())"
   ]
  },
  {
   "cell_type": "code",
   "execution_count": 5,
   "id": "7855fe6d",
   "metadata": {},
   "outputs": [
    {
     "name": "stdout",
     "output_type": "stream",
     "text": [
      "<class 'pandas.core.frame.DataFrame'>\n",
      "Int64Index: 1000 entries, 0 to 999\n",
      "Data columns (total 5 columns):\n",
      " #   Column      Non-Null Count  Dtype \n",
      "---  ------      --------------  ----- \n",
      " 0   Content ID  1000 non-null   object\n",
      " 1   User ID     1000 non-null   object\n",
      " 2   Type        1000 non-null   object\n",
      " 3   Category    1000 non-null   object\n",
      " 4   URL         801 non-null    object\n",
      "dtypes: object(5)\n",
      "memory usage: 46.9+ KB\n"
     ]
    },
    {
     "data": {
      "text/plain": [
       "Content ID      0\n",
       "User ID         0\n",
       "Type            0\n",
       "Category        0\n",
       "URL           199\n",
       "dtype: int64"
      ]
     },
     "execution_count": 5,
     "metadata": {},
     "output_type": "execute_result"
    }
   ],
   "source": [
    "Content.info()\n",
    "Content.isna().sum()"
   ]
  },
  {
   "cell_type": "code",
   "execution_count": 6,
   "id": "2e9e7613",
   "metadata": {},
   "outputs": [
    {
     "data": {
      "text/html": [
       "<div>\n",
       "<style scoped>\n",
       "    .dataframe tbody tr th:only-of-type {\n",
       "        vertical-align: middle;\n",
       "    }\n",
       "\n",
       "    .dataframe tbody tr th {\n",
       "        vertical-align: top;\n",
       "    }\n",
       "\n",
       "    .dataframe thead th {\n",
       "        text-align: right;\n",
       "    }\n",
       "</style>\n",
       "<table border=\"1\" class=\"dataframe\">\n",
       "  <thead>\n",
       "    <tr style=\"text-align: right;\">\n",
       "      <th></th>\n",
       "      <th>User ID</th>\n",
       "      <th>Address</th>\n",
       "    </tr>\n",
       "  </thead>\n",
       "  <tbody>\n",
       "    <tr>\n",
       "      <th>0</th>\n",
       "      <td>4c731e48-0377-4d7d-b4c8-b2174b774ed8</td>\n",
       "      <td>6208 Wright Mountains\\nBryantfurt, AR 02531</td>\n",
       "    </tr>\n",
       "    <tr>\n",
       "      <th>1</th>\n",
       "      <td>95258c36-5b6b-4591-85ee-0c43f503c1d5</td>\n",
       "      <td>534 Williams Turnpike Suite 788\\nPort Julie, W...</td>\n",
       "    </tr>\n",
       "    <tr>\n",
       "      <th>2</th>\n",
       "      <td>a8229d24-f219-4930-a382-24049a8f73bb</td>\n",
       "      <td>867 Lisa Causeway Apt. 015\\nWest Brentmouth, A...</td>\n",
       "    </tr>\n",
       "    <tr>\n",
       "      <th>3</th>\n",
       "      <td>8f41c07f-db4f-44f3-ae81-1f99cee047eb</td>\n",
       "      <td>5687 Wilson Harbors Suite 763\\nLake Robert, FL...</td>\n",
       "    </tr>\n",
       "    <tr>\n",
       "      <th>4</th>\n",
       "      <td>3af8d78b-55c4-4ac0-8161-7cc3f6ec11c9</td>\n",
       "      <td>Unit 2614 Box 8996\\nDPO AE 23660</td>\n",
       "    </tr>\n",
       "  </tbody>\n",
       "</table>\n",
       "</div>"
      ],
      "text/plain": [
       "                                User ID  \\\n",
       "0  4c731e48-0377-4d7d-b4c8-b2174b774ed8   \n",
       "1  95258c36-5b6b-4591-85ee-0c43f503c1d5   \n",
       "2  a8229d24-f219-4930-a382-24049a8f73bb   \n",
       "3  8f41c07f-db4f-44f3-ae81-1f99cee047eb   \n",
       "4  3af8d78b-55c4-4ac0-8161-7cc3f6ec11c9   \n",
       "\n",
       "                                             Address  \n",
       "0        6208 Wright Mountains\\nBryantfurt, AR 02531  \n",
       "1  534 Williams Turnpike Suite 788\\nPort Julie, W...  \n",
       "2  867 Lisa Causeway Apt. 015\\nWest Brentmouth, A...  \n",
       "3  5687 Wilson Harbors Suite 763\\nLake Robert, FL...  \n",
       "4                   Unit 2614 Box 8996\\nDPO AE 23660  "
      ]
     },
     "execution_count": 6,
     "metadata": {},
     "output_type": "execute_result"
    }
   ],
   "source": [
    "Location.head(5)"
   ]
  },
  {
   "cell_type": "code",
   "execution_count": 7,
   "id": "1e2e89af",
   "metadata": {},
   "outputs": [
    {
     "name": "stdout",
     "output_type": "stream",
     "text": [
      "<class 'pandas.core.frame.DataFrame'>\n",
      "Int64Index: 500 entries, 0 to 499\n",
      "Data columns (total 2 columns):\n",
      " #   Column   Non-Null Count  Dtype \n",
      "---  ------   --------------  ----- \n",
      " 0   User ID  500 non-null    object\n",
      " 1   Address  500 non-null    object\n",
      "dtypes: object(2)\n",
      "memory usage: 11.7+ KB\n"
     ]
    },
    {
     "data": {
      "text/plain": [
       "User ID    0\n",
       "Address    0\n",
       "dtype: int64"
      ]
     },
     "execution_count": 7,
     "metadata": {},
     "output_type": "execute_result"
    }
   ],
   "source": [
    "Location.info()\n",
    "Location.isna().sum()"
   ]
  },
  {
   "cell_type": "code",
   "execution_count": 8,
   "id": "6069c118",
   "metadata": {},
   "outputs": [
    {
     "data": {
      "text/html": [
       "<div>\n",
       "<style scoped>\n",
       "    .dataframe tbody tr th:only-of-type {\n",
       "        vertical-align: middle;\n",
       "    }\n",
       "\n",
       "    .dataframe tbody tr th {\n",
       "        vertical-align: top;\n",
       "    }\n",
       "\n",
       "    .dataframe thead th {\n",
       "        text-align: right;\n",
       "    }\n",
       "</style>\n",
       "<table border=\"1\" class=\"dataframe\">\n",
       "  <thead>\n",
       "    <tr style=\"text-align: right;\">\n",
       "      <th></th>\n",
       "      <th>User ID</th>\n",
       "      <th>Interests</th>\n",
       "      <th>Age</th>\n",
       "    </tr>\n",
       "  </thead>\n",
       "  <tbody>\n",
       "    <tr>\n",
       "      <th>0</th>\n",
       "      <td>4c731e48-0377-4d7d-b4c8-b2174b774ed8</td>\n",
       "      <td>[0, 1]</td>\n",
       "      <td>41</td>\n",
       "    </tr>\n",
       "    <tr>\n",
       "      <th>1</th>\n",
       "      <td>95258c36-5b6b-4591-85ee-0c43f503c1d5</td>\n",
       "      <td>['tennis']</td>\n",
       "      <td>23</td>\n",
       "    </tr>\n",
       "    <tr>\n",
       "      <th>2</th>\n",
       "      <td>a8229d24-f219-4930-a382-24049a8f73bb</td>\n",
       "      <td>['fitness', 'cooking', 'animals', 'travel']</td>\n",
       "      <td>25</td>\n",
       "    </tr>\n",
       "    <tr>\n",
       "      <th>3</th>\n",
       "      <td>8f41c07f-db4f-44f3-ae81-1f99cee047eb</td>\n",
       "      <td>['technology', 'culture', 'veganism']</td>\n",
       "      <td>2</td>\n",
       "    </tr>\n",
       "    <tr>\n",
       "      <th>4</th>\n",
       "      <td>3af8d78b-55c4-4ac0-8161-7cc3f6ec11c9</td>\n",
       "      <td>['education']</td>\n",
       "      <td>44</td>\n",
       "    </tr>\n",
       "  </tbody>\n",
       "</table>\n",
       "</div>"
      ],
      "text/plain": [
       "                                User ID  \\\n",
       "0  4c731e48-0377-4d7d-b4c8-b2174b774ed8   \n",
       "1  95258c36-5b6b-4591-85ee-0c43f503c1d5   \n",
       "2  a8229d24-f219-4930-a382-24049a8f73bb   \n",
       "3  8f41c07f-db4f-44f3-ae81-1f99cee047eb   \n",
       "4  3af8d78b-55c4-4ac0-8161-7cc3f6ec11c9   \n",
       "\n",
       "                                     Interests  Age  \n",
       "0                                       [0, 1]   41  \n",
       "1                                   ['tennis']   23  \n",
       "2  ['fitness', 'cooking', 'animals', 'travel']   25  \n",
       "3        ['technology', 'culture', 'veganism']    2  \n",
       "4                                ['education']   44  "
      ]
     },
     "execution_count": 8,
     "metadata": {},
     "output_type": "execute_result"
    }
   ],
   "source": [
    "Profile.head(5)"
   ]
  },
  {
   "cell_type": "code",
   "execution_count": 9,
   "id": "d14c9e73",
   "metadata": {},
   "outputs": [
    {
     "name": "stdout",
     "output_type": "stream",
     "text": [
      "['[0, 1]' \"['tennis']\" \"['fitness', 'cooking', 'animals', 'travel']\"\n",
      " \"['technology', 'culture', 'veganism']\" \"['education']\"\n",
      " \"['culture', 'healthy eating']\" \"['cooking', 'technology', 'fitness']\"\n",
      " \"['food', 'culture']\"\n",
      " \"['public speaking', 'science', 'veganism', 'tennis']\" \"['animals']\"\n",
      " \"['veganism', 'science', 'education']\" \"['studying', 'fitness']\"\n",
      " \"['travel', 'veganism', 'food']\"\n",
      " \"['healthy eating', 'public speaking', 'soccer']\"\n",
      " \"['tennis', 'cooking', 'science']\"\n",
      " \"['healthy eating', 'food', 'soccer', 'healthy eating']\"\n",
      " \"['education', 'culture', 'food']\"\n",
      " \"['food', 'healthy eating', 'culture', 'education']\"\n",
      " \"['studying', 'public speaking', 'soccer', 'food']\"\n",
      " \"['culture', 'public speaking']\" \"['cooking', 'animals']\"\n",
      " \"['soccer', 'studying', 'science']\" \"['education', 'technology']\"\n",
      " \"['animals', 'travel', 'science', 'studying']\" \"['veganism']\"\n",
      " \"['public speaking', 'education', 'culture', 'science']\"\n",
      " \"['soccer', 'animals']\" \"['studying', 'studying']\"\n",
      " \"['education', 'food']\" \"['science', 'studying', 'culture', 'culture']\"\n",
      " \"['dogs', 'studying', 'public speaking']\" \"['studying', 'tennis']\"\n",
      " \"['education', 'studying', 'education', 'culture']\"\n",
      " \"['healthy eating', 'dogs', 'science', 'soccer']\"\n",
      " \"['food', 'soccer', 'public speaking', 'public speaking']\"\n",
      " \"['animals', 'culture']\" \"['soccer']\" \"['fitness']\"\n",
      " \"['animals', 'dogs', 'travel']\"\n",
      " \"['tennis', 'travel', 'science', 'education']\"\n",
      " \"['food', 'animals', 'science', 'soccer']\"\n",
      " \"['healthy eating', 'healthy eating']\" \"['dogs']\"\n",
      " \"['soccer', 'culture', 'tennis', 'culture']\" \"['food', 'animals']\"\n",
      " \"['science']\" \"['healthy eating', 'cooking']\"\n",
      " \"['food', 'soccer', 'healthy eating']\" \"['food', 'tennis']\"\n",
      " \"['travel', 'tennis']\" \"['travel']\" \"['cooking', 'travel', 'animals']\"\n",
      " \"['public speaking']\"\n",
      " \"['studying', 'public speaking', 'travel', 'studying']\" '[0, 1, 2, 3]'\n",
      " \"['public speaking', 'technology', 'science']\" \"['cooking']\"\n",
      " \"['science', 'education']\" \"['food']\" \"['veganism', 'science']\"\n",
      " \"['healthy eating', 'healthy eating', 'food']\"\n",
      " \"['animals', 'fitness', 'fitness']\"\n",
      " \"['studying', 'science', 'veganism', 'public speaking']\"\n",
      " \"['fitness', 'fitness']\"\n",
      " \"['soccer', 'science', 'healthy eating', 'healthy eating']\"\n",
      " \"['animals', 'animals', 'dogs']\"\n",
      " \"['cooking', 'culture', 'studying', 'tennis']\"\n",
      " \"['healthy eating', 'public speaking']\" \"['studying', 'science']\"\n",
      " \"['technology']\" \"['fitness', 'technology', 'veganism']\"\n",
      " \"['dogs', 'soccer']\" \"['travel', 'food', 'technology', 'culture']\"\n",
      " \"['animals', 'travel', 'travel']\" \"['tennis', 'fitness']\"\n",
      " \"['tennis', 'healthy eating', 'cooking', 'tennis']\"\n",
      " \"['cooking', 'technology', 'public speaking', 'tennis']\"\n",
      " \"['cooking', 'technology', 'food']\"\n",
      " \"['healthy eating', 'public speaking', 'food']\" \"['studying']\"\n",
      " \"['soccer', 'veganism']\" \"['veganism', 'studying']\"\n",
      " \"['studying', 'healthy eating']\" \"['cooking', 'veganism', 'tennis']\"\n",
      " \"['veganism', 'cooking', 'food', 'science']\"\n",
      " \"['travel', 'food', 'healthy eating']\"\n",
      " \"['soccer', 'fitness', 'healthy eating', 'veganism']\"\n",
      " \"['science', 'cooking', 'travel']\"\n",
      " \"['travel', 'veganism', 'healthy eating']\"\n",
      " \"['culture', 'studying', 'education']\"\n",
      " \"['technology', 'dogs', 'tennis', 'animals']\"\n",
      " \"['science', 'education', 'tennis', 'science']\"\n",
      " \"['food', 'tennis', 'cooking', 'travel']\"\n",
      " \"['fitness', 'food', 'technology', 'studying']\"\n",
      " \"['travel', 'dogs', 'travel']\"\n",
      " \"['veganism', 'education', 'science', 'food']\"\n",
      " \"['fitness', 'cooking', 'healthy eating', 'soccer']\"\n",
      " \"['technology', 'education', 'soccer']\"\n",
      " \"['healthy eating', 'healthy eating', 'soccer']\" \"['dogs', 'education']\"\n",
      " \"['education', 'healthy eating', 'soccer', 'veganism']\"\n",
      " \"['fitness', 'technology', 'healthy eating', 'education']\"\n",
      " \"['healthy eating', 'veganism', 'animals']\"\n",
      " \"['food', 'public speaking', 'cooking', 'fitness']\"\n",
      " \"['studying', 'culture', 'travel', 'public speaking']\"\n",
      " \"['culture', 'public speaking', 'technology']\"\n",
      " \"['dogs', 'dogs', 'cooking', 'soccer']\"\n",
      " \"['public speaking', 'science', 'culture', 'culture']\"\n",
      " \"['public speaking', 'fitness']\" \"['education', 'dogs']\"\n",
      " \"['public speaking', 'veganism']\" \"['culture', 'soccer', 'culture']\"\n",
      " \"['cooking', 'education', 'food', 'travel']\"\n",
      " \"['travel', 'veganism', 'food', 'cooking']\" \"['food', 'studying']\"\n",
      " \"['tennis', 'science', 'soccer', 'culture']\"\n",
      " \"['soccer', 'culture', 'animals', 'soccer']\"\n",
      " \"['dogs', 'public speaking', 'culture', 'veganism']\"\n",
      " \"['tennis', 'fitness', 'healthy eating', 'animals']\"\n",
      " \"['tennis', 'culture', 'technology', 'science']\"\n",
      " \"['science', 'public speaking', 'animals']\"\n",
      " \"['soccer', 'public speaking']\" \"['dogs', 'studying']\"\n",
      " \"['fitness', 'animals', 'cooking', 'dogs']\"\n",
      " \"['culture', 'healthy eating', 'studying', 'soccer']\"\n",
      " \"['soccer', 'travel']\" \"['culture']\"\n",
      " \"['animals', 'cooking', 'food', 'food']\" \"['animals', 'animals', 'food']\"\n",
      " \"['education', 'culture', 'public speaking']\"\n",
      " \"['dogs', 'public speaking', 'studying', 'food']\"\n",
      " \"['healthy eating', 'technology', 'science', 'education']\"\n",
      " \"['science', 'fitness', 'cooking']\" \"['cooking', 'culture']\"\n",
      " \"['veganism', 'tennis', 'cooking']\" \"['food', 'dogs', 'studying']\"\n",
      " \"['science', 'education', 'veganism']\" \"['animals', 'fitness']\"\n",
      " \"['culture', 'education']\" \"['tennis', 'cooking', 'fitness', 'food']\"\n",
      " \"['public speaking', 'cooking', 'science']\" \"['soccer', 'science']\"\n",
      " \"['studying', 'public speaking']\" \"['education', 'studying']\"\n",
      " \"['soccer', 'dogs', 'public speaking']\"\n",
      " \"['fitness', 'science', 'animals']\"\n",
      " \"['soccer', 'cooking', 'cooking', 'healthy eating']\"\n",
      " \"['dogs', 'fitness']\"\n",
      " \"['studying', 'public speaking', 'animals', 'education']\"\n",
      " \"['science', 'education', 'animals']\"\n",
      " \"['technology', 'veganism', 'cooking', 'dogs']\"\n",
      " \"['public speaking', 'healthy eating', 'healthy eating']\"\n",
      " \"['travel', 'public speaking', 'animals', 'science']\"\n",
      " \"['healthy eating', 'veganism']\" \"['travel', 'studying']\"\n",
      " \"['education', 'culture']\" \"['travel', 'healthy eating']\"\n",
      " \"['fitness', 'fitness', 'veganism']\"\n",
      " \"['veganism', 'public speaking', 'technology', 'studying']\"\n",
      " \"['public speaking', 'studying']\"\n",
      " \"['studying', 'tennis', 'veganism', 'technology']\"\n",
      " \"['food', 'tennis', 'tennis']\" \"['studying', 'food', 'travel']\"\n",
      " \"['food', 'public speaking']\" \"['soccer', 'soccer', 'soccer']\"\n",
      " \"['cooking', 'dogs', 'public speaking', 'culture']\"\n",
      " \"['animals', 'technology', 'technology', 'soccer']\"\n",
      " \"['culture', 'soccer', 'fitness']\"\n",
      " \"['education', 'travel', 'animals', 'education']\"\n",
      " \"['dogs', 'veganism', 'soccer', 'travel']\"\n",
      " \"['cooking', 'fitness', 'technology']\" \"['healthy eating']\"\n",
      " \"['soccer', 'travel', 'technology']\"\n",
      " \"['food', 'healthy eating', 'studying', 'public speaking']\"\n",
      " \"['cooking', 'tennis']\" \"['public speaking', 'food', 'cooking']\"\n",
      " \"['healthy eating', 'public speaking', 'science', 'education']\"\n",
      " \"['animals', 'veganism']\" \"['public speaking', 'animals', 'tennis']\"\n",
      " \"['culture', 'fitness', 'cooking', 'science']\"\n",
      " \"['animals', 'food', 'healthy eating']\"\n",
      " \"['culture', 'culture', 'culture', 'animals']\"\n",
      " \"['public speaking', 'healthy eating', 'technology', 'public speaking']\"\n",
      " \"['travel', 'cooking']\" \"['veganism', 'education', 'soccer']\"\n",
      " \"['soccer', 'studying', 'soccer']\" \"['tennis', 'studying']\"\n",
      " \"['technology', 'public speaking', 'cooking']\"\n",
      " \"['education', 'culture', 'healthy eating']\"\n",
      " \"['fitness', 'veganism', 'dogs', 'fitness']\"\n",
      " \"['education', 'science', 'science', 'education']\"\n",
      " \"['healthy eating', 'fitness', 'tennis']\" '[0, 1, 2]'\n",
      " \"['healthy eating', 'technology', 'healthy eating']\"\n",
      " \"['soccer', 'fitness', 'public speaking', 'education']\"\n",
      " \"['public speaking', 'science', 'food', 'veganism']\"\n",
      " \"['tennis', 'animals']\" \"['food', 'tennis', 'animals']\"\n",
      " \"['soccer', 'food', 'healthy eating', 'travel']\"\n",
      " \"['culture', 'veganism']\" \"['dogs', 'technology']\"\n",
      " \"['animals', 'education', 'tennis']\" \"['soccer', 'food', 'soccer']\"\n",
      " \"['culture', 'food', 'culture']\"\n",
      " \"['technology', 'studying', 'veganism', 'soccer']\"\n",
      " \"['healthy eating', 'cooking', 'culture']\" \"['education', 'tennis']\"\n",
      " \"['veganism', 'dogs', 'dogs', 'food']\"\n",
      " \"['public speaking', 'healthy eating']\" \"['fitness', 'animals']\"\n",
      " \"['education', 'dogs', 'education', 'soccer']\"\n",
      " \"['travel', 'tennis', 'tennis', 'culture']\"\n",
      " \"['public speaking', 'travel', 'education']\"\n",
      " \"['public speaking', 'culture', 'technology']\"\n",
      " \"['public speaking', 'studying', 'public speaking']\"\n",
      " \"['tennis', 'food', 'technology', 'studying']\"\n",
      " \"['fitness', 'cooking', 'science']\"\n",
      " \"['fitness', 'education', 'culture', 'soccer']\"\n",
      " \"['science', 'food', 'culture', 'healthy eating']\"\n",
      " \"['dogs', 'education', 'culture', 'veganism']\"\n",
      " \"['animals', 'healthy eating', 'culture', 'culture']\"\n",
      " \"['soccer', 'culture']\"\n",
      " \"['food', 'public speaking', 'public speaking', 'animals']\"\n",
      " \"['public speaking', 'education', 'veganism', 'animals']\"\n",
      " \"['veganism', 'veganism', 'veganism']\"\n",
      " \"['public speaking', 'dogs', 'cooking']\"\n",
      " \"['public speaking', 'travel', 'animals']\"\n",
      " \"['studying', 'technology', 'soccer']\"\n",
      " \"['animals', 'public speaking', 'veganism']\"\n",
      " \"['tennis', 'technology', 'healthy eating', 'education']\"\n",
      " \"['tennis', 'science', 'technology']\"\n",
      " \"['tennis', 'travel', 'technology', 'tennis']\"\n",
      " \"['culture', 'tennis', 'veganism', 'fitness']\"\n",
      " \"['cooking', 'tennis', 'cooking']\" \"['veganism', 'fitness', 'travel']\"\n",
      " \"['cooking', 'tennis', 'soccer', 'healthy eating']\"\n",
      " \"['animals', 'culture', 'healthy eating', 'soccer']\"\n",
      " \"['science', 'science']\" \"['dogs', 'dogs', 'public speaking']\"\n",
      " \"['food', 'soccer']\" \"['dogs', 'science', 'animals', 'cooking']\"\n",
      " \"['technology', 'public speaking']\"\n",
      " \"['fitness', 'dogs', 'dogs', 'veganism']\" \"['veganism', 'tennis']\"\n",
      " \"['education', 'veganism', 'animals']\"\n",
      " \"['food', 'studying', 'tennis', 'public speaking']\"\n",
      " \"['tennis', 'tennis']\" \"['animals', 'food', 'technology', 'animals']\"\n",
      " \"['food', 'healthy eating', 'soccer', 'technology']\"\n",
      " \"['animals', 'travel', 'education', 'science']\" \"['soccer', 'cooking']\"\n",
      " \"['science', 'science', 'science']\" \"['science', 'dogs', 'travel']\"\n",
      " \"['science', 'dogs', 'public speaking']\"\n",
      " \"['studying', 'cooking', 'tennis']\"\n",
      " \"['veganism', 'healthy eating', 'science']\"\n",
      " \"['education', 'technology', 'fitness', 'cooking']\"\n",
      " \"['animals', 'healthy eating', 'travel']\"\n",
      " \"['education', 'travel', 'tennis']\" \"['cooking', 'soccer']\"\n",
      " \"['dogs', 'travel']\" \"['veganism', 'veganism', 'culture']\"\n",
      " \"['fitness', 'public speaking', 'culture', 'science']\"\n",
      " \"['tennis', 'soccer', 'animals', 'tennis']\"\n",
      " \"['travel', 'soccer', 'public speaking', 'science']\"\n",
      " \"['food', 'technology', 'cooking']\" \"['food', 'food']\"\n",
      " \"['healthy eating', 'science', 'public speaking', 'veganism']\"\n",
      " \"['dogs', 'public speaking', 'fitness']\" \"['food', 'fitness', 'dogs']\"\n",
      " \"['food', 'science', 'animals']\"\n",
      " \"['healthy eating', 'culture', 'fitness']\"\n",
      " \"['travel', 'fitness', 'healthy eating', 'public speaking']\"\n",
      " \"['culture', 'fitness', 'food', 'veganism']\"\n",
      " \"['technology', 'food', 'dogs', 'soccer']\" \"['studying', 'soccer']\"\n",
      " \"['culture', 'cooking', 'technology', 'travel']\"\n",
      " \"['travel', 'food', 'culture']\" \"['veganism', 'travel']\"\n",
      " \"['veganism', 'technology']\" \"['tennis', 'food', 'dogs']\"\n",
      " \"['soccer', 'studying', 'food', 'tennis']\"\n",
      " \"['healthy eating', 'culture']\"\n",
      " \"['healthy eating', 'science', 'public speaking']\"\n",
      " \"['cooking', 'education', 'fitness', 'soccer']\" \"['dogs', 'food']\"\n",
      " \"['education', 'soccer', 'travel', 'dogs']\"\n",
      " \"['cooking', 'soccer', 'animals']\"\n",
      " \"['science', 'dogs', 'tennis', 'science']\" \"['food', 'fitness']\"\n",
      " \"['dogs', 'cooking', 'fitness']\"\n",
      " \"['food', 'cooking', 'technology', 'science']\"\n",
      " \"['dogs', 'public speaking', 'animals', 'soccer']\"\n",
      " \"['cooking', 'cooking', 'cooking']\" \"['food', 'travel']\"\n",
      " \"['cooking', 'education']\" \"['cooking', 'healthy eating', 'soccer']\"\n",
      " \"['dogs', 'education', 'dogs']\" \"['dogs', 'culture']\"\n",
      " \"['animals', 'public speaking']\"\n",
      " \"['soccer', 'healthy eating', 'veganism']\"\n",
      " \"['soccer', 'animals', 'soccer']\"\n",
      " \"['education', 'fitness', 'dogs', 'healthy eating']\"\n",
      " \"['fitness', 'culture', 'cooking', 'studying']\"\n",
      " \"['food', 'technology', 'food', 'education']\"\n",
      " \"['dogs', 'science', 'animals', 'studying']\"\n",
      " \"['food', 'veganism', 'soccer', 'travel']\"\n",
      " \"['science', 'technology', 'cooking']\" \"['education', 'tennis', 'food']\"\n",
      " \"['soccer', 'cooking', 'studying', 'public speaking']\"\n",
      " \"['public speaking', 'tennis']\" \"['technology', 'tennis', 'soccer']\"\n",
      " \"['education', 'healthy eating', 'studying', 'veganism']\"\n",
      " \"['animals', 'dogs']\" \"['soccer', 'soccer']\"\n",
      " \"['veganism', 'travel', 'cooking', 'food']\"\n",
      " \"['cooking', 'animals', 'studying', 'fitness']\"\n",
      " \"['science', 'animals', 'animals', 'food']\" \"['technology', 'food']\"\n",
      " \"['animals', 'education', 'healthy eating', 'travel']\"\n",
      " \"['culture', 'science', 'healthy eating', 'fitness']\"\n",
      " \"['culture', 'travel']\" \"['dogs', 'tennis', 'education', 'fitness']\"\n",
      " \"['science', 'healthy eating', 'healthy eating']\"\n",
      " \"['culture', 'science', 'healthy eating']\"\n",
      " \"['studying', 'technology', 'culture']\"\n",
      " \"['animals', 'studying', 'dogs', 'animals']\" \"['cooking', 'science']\"\n",
      " \"['cooking', 'culture', 'fitness', 'cooking']\"\n",
      " \"['travel', 'tennis', 'studying']\"\n",
      " \"['cooking', 'animals', 'studying', 'public speaking']\"\n",
      " \"['technology', 'travel', 'dogs', 'fitness']\"\n",
      " \"['animals', 'fitness', 'travel', 'culture']\"\n",
      " \"['healthy eating', 'fitness']\"\n",
      " \"['healthy eating', 'technology', 'public speaking']\"\n",
      " \"['soccer', 'education', 'veganism']\" \"['technology', 'animals']\"\n",
      " \"['dogs', 'travel', 'technology']\"\n",
      " \"['healthy eating', 'culture', 'fitness', 'public speaking']\"\n",
      " \"['science', 'public speaking', 'veganism']\" \"['veganism', 'veganism']\"\n",
      " \"['tennis', 'science', 'tennis', 'science']\" \"['cooking', 'studying']\"\n",
      " \"['animals', 'science', 'education', 'animals']\"\n",
      " \"['culture', 'science', 'science']\"\n",
      " \"['food', 'veganism', 'veganism', 'education']\"\n",
      " \"['dogs', 'soccer', 'dogs', 'veganism']\"\n",
      " \"['travel', 'animals', 'education']\" \"['dogs', 'veganism', 'culture']\"\n",
      " \"['studying', 'cooking', 'animals']\"\n",
      " \"['fitness', 'veganism', 'public speaking', 'technology']\"\n",
      " \"['soccer', 'animals', 'healthy eating']\"\n",
      " \"['cooking', 'science', 'studying', 'culture']\" '[0]'\n",
      " \"['science', 'technology', 'technology', 'education']\"\n",
      " \"['studying', 'healthy eating', 'fitness', 'culture']\"\n",
      " \"['cooking', 'travel']\" \"['culture', 'animals', 'food']\"\n",
      " \"['tennis', 'healthy eating', 'food']\" \"['animals', 'science']\"\n",
      " \"['technology', 'fitness']\" \"['food', 'healthy eating']\"\n",
      " \"['tennis', 'veganism', 'education', 'soccer']\"\n",
      " \"['healthy eating', 'travel']\" \"['public speaking', 'dogs']\"\n",
      " \"['education', 'science', 'animals', 'public speaking']\"]\n"
     ]
    }
   ],
   "source": [
    "print(Profile.Interests.unique())"
   ]
  },
  {
   "cell_type": "code",
   "execution_count": 10,
   "id": "80e4b9cf",
   "metadata": {},
   "outputs": [
    {
     "name": "stdout",
     "output_type": "stream",
     "text": [
      "[41 23 25  2 44 28  4 30  8 32 34 42 19 21 14 29 39 38  7  3  9 16 40  5\n",
      " 35 36 26 33 20 11 18  0 24 10 15 17  6 43  1 22 27 31 37 13 12]\n"
     ]
    }
   ],
   "source": [
    "print(Profile.Age.unique())"
   ]
  },
  {
   "cell_type": "code",
   "execution_count": 11,
   "id": "a42e41ee",
   "metadata": {},
   "outputs": [
    {
     "name": "stdout",
     "output_type": "stream",
     "text": [
      "<class 'pandas.core.frame.DataFrame'>\n",
      "Int64Index: 500 entries, 0 to 499\n",
      "Data columns (total 3 columns):\n",
      " #   Column     Non-Null Count  Dtype \n",
      "---  ------     --------------  ----- \n",
      " 0   User ID    500 non-null    object\n",
      " 1   Interests  500 non-null    object\n",
      " 2   Age        500 non-null    int64 \n",
      "dtypes: int64(1), object(2)\n",
      "memory usage: 15.6+ KB\n"
     ]
    },
    {
     "data": {
      "text/plain": [
       "User ID      0\n",
       "Interests    0\n",
       "Age          0\n",
       "dtype: int64"
      ]
     },
     "execution_count": 11,
     "metadata": {},
     "output_type": "execute_result"
    }
   ],
   "source": [
    "Profile.info()\n",
    "Profile.isna().sum()"
   ]
  },
  {
   "cell_type": "code",
   "execution_count": 12,
   "id": "eeec7a39",
   "metadata": {},
   "outputs": [
    {
     "data": {
      "text/html": [
       "<div>\n",
       "<style scoped>\n",
       "    .dataframe tbody tr th:only-of-type {\n",
       "        vertical-align: middle;\n",
       "    }\n",
       "\n",
       "    .dataframe tbody tr th {\n",
       "        vertical-align: top;\n",
       "    }\n",
       "\n",
       "    .dataframe thead th {\n",
       "        text-align: right;\n",
       "    }\n",
       "</style>\n",
       "<table border=\"1\" class=\"dataframe\">\n",
       "  <thead>\n",
       "    <tr style=\"text-align: right;\">\n",
       "      <th></th>\n",
       "      <th>Type</th>\n",
       "      <th>Sentiment</th>\n",
       "      <th>Score</th>\n",
       "    </tr>\n",
       "  </thead>\n",
       "  <tbody>\n",
       "    <tr>\n",
       "      <th>0</th>\n",
       "      <td>heart</td>\n",
       "      <td>positive</td>\n",
       "      <td>60</td>\n",
       "    </tr>\n",
       "    <tr>\n",
       "      <th>1</th>\n",
       "      <td>want</td>\n",
       "      <td>positive</td>\n",
       "      <td>70</td>\n",
       "    </tr>\n",
       "    <tr>\n",
       "      <th>2</th>\n",
       "      <td>disgust</td>\n",
       "      <td>negative</td>\n",
       "      <td>0</td>\n",
       "    </tr>\n",
       "    <tr>\n",
       "      <th>3</th>\n",
       "      <td>hate</td>\n",
       "      <td>negative</td>\n",
       "      <td>5</td>\n",
       "    </tr>\n",
       "    <tr>\n",
       "      <th>4</th>\n",
       "      <td>interested</td>\n",
       "      <td>positive</td>\n",
       "      <td>30</td>\n",
       "    </tr>\n",
       "  </tbody>\n",
       "</table>\n",
       "</div>"
      ],
      "text/plain": [
       "         Type Sentiment  Score\n",
       "0       heart  positive     60\n",
       "1        want  positive     70\n",
       "2     disgust  negative      0\n",
       "3        hate  negative      5\n",
       "4  interested  positive     30"
      ]
     },
     "execution_count": 12,
     "metadata": {},
     "output_type": "execute_result"
    }
   ],
   "source": [
    "ReactionTypes.head(5)"
   ]
  },
  {
   "cell_type": "code",
   "execution_count": 13,
   "id": "ec8d9e0c",
   "metadata": {},
   "outputs": [
    {
     "name": "stdout",
     "output_type": "stream",
     "text": [
      "['heart' 'want' 'disgust' 'hate' 'interested' 'indifferent' 'love'\n",
      " 'super love' 'cherish' 'adore' 'like' 'dislike' 'intrigued' 'peeking'\n",
      " 'scared' 'worried']\n"
     ]
    }
   ],
   "source": [
    "print(ReactionTypes.Type.unique())"
   ]
  },
  {
   "cell_type": "code",
   "execution_count": 14,
   "id": "90fbbfc8",
   "metadata": {},
   "outputs": [
    {
     "name": "stdout",
     "output_type": "stream",
     "text": [
      "['positive' 'negative' 'neutral']\n"
     ]
    }
   ],
   "source": [
    "print(ReactionTypes.Sentiment.unique())"
   ]
  },
  {
   "cell_type": "code",
   "execution_count": 15,
   "id": "c5c46370",
   "metadata": {},
   "outputs": [
    {
     "name": "stdout",
     "output_type": "stream",
     "text": [
      "<class 'pandas.core.frame.DataFrame'>\n",
      "Int64Index: 16 entries, 0 to 15\n",
      "Data columns (total 3 columns):\n",
      " #   Column     Non-Null Count  Dtype \n",
      "---  ------     --------------  ----- \n",
      " 0   Type       16 non-null     object\n",
      " 1   Sentiment  16 non-null     object\n",
      " 2   Score      16 non-null     int64 \n",
      "dtypes: int64(1), object(2)\n",
      "memory usage: 512.0+ bytes\n"
     ]
    },
    {
     "data": {
      "text/plain": [
       "Type         0\n",
       "Sentiment    0\n",
       "Score        0\n",
       "dtype: int64"
      ]
     },
     "execution_count": 15,
     "metadata": {},
     "output_type": "execute_result"
    }
   ],
   "source": [
    "ReactionTypes.info()\n",
    "ReactionTypes.isna().sum()"
   ]
  },
  {
   "cell_type": "code",
   "execution_count": 16,
   "id": "44a613df",
   "metadata": {},
   "outputs": [
    {
     "data": {
      "text/html": [
       "<div>\n",
       "<style scoped>\n",
       "    .dataframe tbody tr th:only-of-type {\n",
       "        vertical-align: middle;\n",
       "    }\n",
       "\n",
       "    .dataframe tbody tr th {\n",
       "        vertical-align: top;\n",
       "    }\n",
       "\n",
       "    .dataframe thead th {\n",
       "        text-align: right;\n",
       "    }\n",
       "</style>\n",
       "<table border=\"1\" class=\"dataframe\">\n",
       "  <thead>\n",
       "    <tr style=\"text-align: right;\">\n",
       "      <th></th>\n",
       "      <th>Content ID</th>\n",
       "      <th>User ID</th>\n",
       "      <th>Type</th>\n",
       "      <th>Datetime</th>\n",
       "    </tr>\n",
       "  </thead>\n",
       "  <tbody>\n",
       "    <tr>\n",
       "      <th>0</th>\n",
       "      <td>97522e57-d9ab-4bd6-97bf-c24d952602d2</td>\n",
       "      <td>NaN</td>\n",
       "      <td>NaN</td>\n",
       "      <td>2021-04-22 15:17:15</td>\n",
       "    </tr>\n",
       "    <tr>\n",
       "      <th>1</th>\n",
       "      <td>97522e57-d9ab-4bd6-97bf-c24d952602d2</td>\n",
       "      <td>5d454588-283d-459d-915d-c48a2cb4c27f</td>\n",
       "      <td>disgust</td>\n",
       "      <td>2020-11-07 09:43:50</td>\n",
       "    </tr>\n",
       "    <tr>\n",
       "      <th>2</th>\n",
       "      <td>97522e57-d9ab-4bd6-97bf-c24d952602d2</td>\n",
       "      <td>92b87fa5-f271-43e0-af66-84fac21052e6</td>\n",
       "      <td>dislike</td>\n",
       "      <td>2021-06-17 12:22:51</td>\n",
       "    </tr>\n",
       "    <tr>\n",
       "      <th>3</th>\n",
       "      <td>97522e57-d9ab-4bd6-97bf-c24d952602d2</td>\n",
       "      <td>163daa38-8b77-48c9-9af6-37a6c1447ac2</td>\n",
       "      <td>scared</td>\n",
       "      <td>2021-04-18 05:13:58</td>\n",
       "    </tr>\n",
       "    <tr>\n",
       "      <th>4</th>\n",
       "      <td>97522e57-d9ab-4bd6-97bf-c24d952602d2</td>\n",
       "      <td>34e8add9-0206-47fd-a501-037b994650a2</td>\n",
       "      <td>disgust</td>\n",
       "      <td>2021-01-06 19:13:01</td>\n",
       "    </tr>\n",
       "  </tbody>\n",
       "</table>\n",
       "</div>"
      ],
      "text/plain": [
       "                             Content ID                               User ID  \\\n",
       "0  97522e57-d9ab-4bd6-97bf-c24d952602d2                                   NaN   \n",
       "1  97522e57-d9ab-4bd6-97bf-c24d952602d2  5d454588-283d-459d-915d-c48a2cb4c27f   \n",
       "2  97522e57-d9ab-4bd6-97bf-c24d952602d2  92b87fa5-f271-43e0-af66-84fac21052e6   \n",
       "3  97522e57-d9ab-4bd6-97bf-c24d952602d2  163daa38-8b77-48c9-9af6-37a6c1447ac2   \n",
       "4  97522e57-d9ab-4bd6-97bf-c24d952602d2  34e8add9-0206-47fd-a501-037b994650a2   \n",
       "\n",
       "      Type            Datetime  \n",
       "0      NaN 2021-04-22 15:17:15  \n",
       "1  disgust 2020-11-07 09:43:50  \n",
       "2  dislike 2021-06-17 12:22:51  \n",
       "3   scared 2021-04-18 05:13:58  \n",
       "4  disgust 2021-01-06 19:13:01  "
      ]
     },
     "execution_count": 16,
     "metadata": {},
     "output_type": "execute_result"
    }
   ],
   "source": [
    "Reactions.head(5)"
   ]
  },
  {
   "cell_type": "code",
   "execution_count": 17,
   "id": "d9ab4c72",
   "metadata": {},
   "outputs": [
    {
     "name": "stdout",
     "output_type": "stream",
     "text": [
      "[nan 'disgust' 'dislike' 'scared' 'interested' 'peeking' 'cherish' 'hate'\n",
      " 'love' 'indifferent' 'super love' 'intrigued' 'worried' 'like' 'heart'\n",
      " 'want' 'adore']\n"
     ]
    }
   ],
   "source": [
    "print(Reactions.Type.unique())"
   ]
  },
  {
   "cell_type": "code",
   "execution_count": 18,
   "id": "a9029f74",
   "metadata": {},
   "outputs": [
    {
     "data": {
      "text/plain": [
       "heart          1622\n",
       "scared         1572\n",
       "peeking        1559\n",
       "hate           1552\n",
       "interested     1549\n",
       "dislike        1548\n",
       "adore          1548\n",
       "want           1539\n",
       "love           1534\n",
       "disgust        1526\n",
       "like           1520\n",
       "super love     1519\n",
       "indifferent    1512\n",
       "cherish        1501\n",
       "worried        1497\n",
       "intrigued      1475\n",
       "Name: Type, dtype: int64"
      ]
     },
     "execution_count": 18,
     "metadata": {},
     "output_type": "execute_result"
    }
   ],
   "source": [
    "Reactions.Type.value_counts()"
   ]
  },
  {
   "cell_type": "code",
   "execution_count": 19,
   "id": "93810b45",
   "metadata": {},
   "outputs": [
    {
     "data": {
      "text/html": [
       "<div>\n",
       "<style scoped>\n",
       "    .dataframe tbody tr th:only-of-type {\n",
       "        vertical-align: middle;\n",
       "    }\n",
       "\n",
       "    .dataframe tbody tr th {\n",
       "        vertical-align: top;\n",
       "    }\n",
       "\n",
       "    .dataframe thead th {\n",
       "        text-align: right;\n",
       "    }\n",
       "</style>\n",
       "<table border=\"1\" class=\"dataframe\">\n",
       "  <thead>\n",
       "    <tr style=\"text-align: right;\">\n",
       "      <th></th>\n",
       "      <th>Content ID</th>\n",
       "      <th>User ID</th>\n",
       "      <th>Type</th>\n",
       "      <th>Datetime</th>\n",
       "    </tr>\n",
       "  </thead>\n",
       "  <tbody>\n",
       "  </tbody>\n",
       "</table>\n",
       "</div>"
      ],
      "text/plain": [
       "Empty DataFrame\n",
       "Columns: [Content ID, User ID, Type, Datetime]\n",
       "Index: []"
      ]
     },
     "execution_count": 19,
     "metadata": {},
     "output_type": "execute_result"
    }
   ],
   "source": [
    "Reactions[Reactions['User ID']==0]\n",
    "# Reactions[Reactions.Datetime.dt.year < 2010]\n",
    "# Reactions[Reactions.Datetime.dt.year > 2022]"
   ]
  },
  {
   "cell_type": "code",
   "execution_count": 20,
   "id": "2b17a242",
   "metadata": {},
   "outputs": [
    {
     "name": "stdout",
     "output_type": "stream",
     "text": [
      "<class 'pandas.core.frame.DataFrame'>\n",
      "Int64Index: 25553 entries, 0 to 25552\n",
      "Data columns (total 4 columns):\n",
      " #   Column      Non-Null Count  Dtype         \n",
      "---  ------      --------------  -----         \n",
      " 0   Content ID  25553 non-null  object        \n",
      " 1   User ID     22534 non-null  object        \n",
      " 2   Type        24573 non-null  object        \n",
      " 3   Datetime    25553 non-null  datetime64[ns]\n",
      "dtypes: datetime64[ns](1), object(3)\n",
      "memory usage: 998.2+ KB\n"
     ]
    },
    {
     "data": {
      "text/plain": [
       "Content ID       0\n",
       "User ID       3019\n",
       "Type           980\n",
       "Datetime         0\n",
       "dtype: int64"
      ]
     },
     "execution_count": 20,
     "metadata": {},
     "output_type": "execute_result"
    }
   ],
   "source": [
    "Reactions.info()\n",
    "Reactions.isna().sum()"
   ]
  },
  {
   "cell_type": "code",
   "execution_count": 21,
   "id": "1da11546",
   "metadata": {},
   "outputs": [
    {
     "data": {
      "text/html": [
       "<div>\n",
       "<style scoped>\n",
       "    .dataframe tbody tr th:only-of-type {\n",
       "        vertical-align: middle;\n",
       "    }\n",
       "\n",
       "    .dataframe tbody tr th {\n",
       "        vertical-align: top;\n",
       "    }\n",
       "\n",
       "    .dataframe thead th {\n",
       "        text-align: right;\n",
       "    }\n",
       "</style>\n",
       "<table border=\"1\" class=\"dataframe\">\n",
       "  <thead>\n",
       "    <tr style=\"text-align: right;\">\n",
       "      <th></th>\n",
       "      <th>User ID</th>\n",
       "      <th>Device</th>\n",
       "      <th>Duration</th>\n",
       "    </tr>\n",
       "  </thead>\n",
       "  <tbody>\n",
       "    <tr>\n",
       "      <th>0</th>\n",
       "      <td>4c731e48-0377-4d7d-b4c8-b2174b774ed8</td>\n",
       "      <td>Microsoft</td>\n",
       "      <td>11</td>\n",
       "    </tr>\n",
       "    <tr>\n",
       "      <th>1</th>\n",
       "      <td>95258c36-5b6b-4591-85ee-0c43f503c1d5</td>\n",
       "      <td>Apple</td>\n",
       "      <td>51</td>\n",
       "    </tr>\n",
       "    <tr>\n",
       "      <th>2</th>\n",
       "      <td>a8229d24-f219-4930-a382-24049a8f73bb</td>\n",
       "      <td>HTC</td>\n",
       "      <td>25</td>\n",
       "    </tr>\n",
       "    <tr>\n",
       "      <th>3</th>\n",
       "      <td>8f41c07f-db4f-44f3-ae81-1f99cee047eb</td>\n",
       "      <td>Motorola</td>\n",
       "      <td>68</td>\n",
       "    </tr>\n",
       "    <tr>\n",
       "      <th>4</th>\n",
       "      <td>3af8d78b-55c4-4ac0-8161-7cc3f6ec11c9</td>\n",
       "      <td>Huawei</td>\n",
       "      <td>57</td>\n",
       "    </tr>\n",
       "  </tbody>\n",
       "</table>\n",
       "</div>"
      ],
      "text/plain": [
       "                                User ID     Device  Duration\n",
       "0  4c731e48-0377-4d7d-b4c8-b2174b774ed8  Microsoft        11\n",
       "1  95258c36-5b6b-4591-85ee-0c43f503c1d5      Apple        51\n",
       "2  a8229d24-f219-4930-a382-24049a8f73bb        HTC        25\n",
       "3  8f41c07f-db4f-44f3-ae81-1f99cee047eb   Motorola        68\n",
       "4  3af8d78b-55c4-4ac0-8161-7cc3f6ec11c9     Huawei        57"
      ]
     },
     "execution_count": 21,
     "metadata": {},
     "output_type": "execute_result"
    }
   ],
   "source": [
    "Session.head(5)"
   ]
  },
  {
   "cell_type": "code",
   "execution_count": 22,
   "id": "f904ff81",
   "metadata": {},
   "outputs": [
    {
     "name": "stdout",
     "output_type": "stream",
     "text": [
      "                                  User ID     Device  Duration\n",
      "154  0c9ea4da-c609-4b08-ab44-1da0530ba364     Google         0\n",
      "205  392bf6a1-dd73-48a5-9fd9-431749f2a8ef   Motorola         0\n",
      "208  d81dc9d9-a614-40f1-9dd4-7a4a05bac243   Motorola         0\n",
      "221  9be473d9-cfdf-4954-bae2-09b0555a8ebb        HTC         0\n",
      "345  92423e9a-4e8c-49bc-be75-c819912696ce  Microsoft         0\n",
      "373  ddc4db8e-0000-48c4-8fdb-d32af87fb823      Apple         0\n"
     ]
    }
   ],
   "source": [
    "print(Session[Session.Duration == 0])"
   ]
  },
  {
   "cell_type": "code",
   "execution_count": 23,
   "id": "acc9e147",
   "metadata": {},
   "outputs": [
    {
     "data": {
      "text/plain": [
       "Motorola     77\n",
       "Microsoft    77\n",
       "Huawei       74\n",
       "HTC          72\n",
       "Apple        68\n",
       "Samsung      65\n",
       "Google       61\n",
       "thbhn         1\n",
       "qxugb         1\n",
       "ouafw         1\n",
       "dcppv         1\n",
       "sbnnz         1\n",
       "xtzqw         1\n",
       "Name: Device, dtype: int64"
      ]
     },
     "execution_count": 23,
     "metadata": {},
     "output_type": "execute_result"
    }
   ],
   "source": [
    "Session.Device.value_counts()"
   ]
  },
  {
   "cell_type": "code",
   "execution_count": 24,
   "id": "24081713",
   "metadata": {},
   "outputs": [
    {
     "name": "stdout",
     "output_type": "stream",
     "text": [
      "<class 'pandas.core.frame.DataFrame'>\n",
      "Int64Index: 500 entries, 0 to 499\n",
      "Data columns (total 3 columns):\n",
      " #   Column    Non-Null Count  Dtype \n",
      "---  ------    --------------  ----- \n",
      " 0   User ID   500 non-null    object\n",
      " 1   Device    500 non-null    object\n",
      " 2   Duration  500 non-null    int64 \n",
      "dtypes: int64(1), object(2)\n",
      "memory usage: 15.6+ KB\n"
     ]
    },
    {
     "data": {
      "text/plain": [
       "User ID     0\n",
       "Device      0\n",
       "Duration    0\n",
       "dtype: int64"
      ]
     },
     "execution_count": 24,
     "metadata": {},
     "output_type": "execute_result"
    }
   ],
   "source": [
    "Session.info()\n",
    "Session.isna().sum()"
   ]
  },
  {
   "cell_type": "code",
   "execution_count": 25,
   "id": "5555b732",
   "metadata": {},
   "outputs": [
    {
     "data": {
      "text/html": [
       "<div>\n",
       "<style scoped>\n",
       "    .dataframe tbody tr th:only-of-type {\n",
       "        vertical-align: middle;\n",
       "    }\n",
       "\n",
       "    .dataframe tbody tr th {\n",
       "        vertical-align: top;\n",
       "    }\n",
       "\n",
       "    .dataframe thead th {\n",
       "        text-align: right;\n",
       "    }\n",
       "</style>\n",
       "<table border=\"1\" class=\"dataframe\">\n",
       "  <thead>\n",
       "    <tr style=\"text-align: right;\">\n",
       "      <th></th>\n",
       "      <th>User ID</th>\n",
       "      <th>Name</th>\n",
       "      <th>Email</th>\n",
       "    </tr>\n",
       "  </thead>\n",
       "  <tbody>\n",
       "    <tr>\n",
       "      <th>0</th>\n",
       "      <td>4c731e48-0377-4d7d-b4c8-b2174b774ed8</td>\n",
       "      <td>Gary Hill</td>\n",
       "      <td>GHbnuothhymw</td>\n",
       "    </tr>\n",
       "    <tr>\n",
       "      <th>1</th>\n",
       "      <td>95258c36-5b6b-4591-85ee-0c43f503c1d5</td>\n",
       "      <td>Michael Deering</td>\n",
       "      <td>MD@gmail.com</td>\n",
       "    </tr>\n",
       "    <tr>\n",
       "      <th>2</th>\n",
       "      <td>a8229d24-f219-4930-a382-24049a8f73bb</td>\n",
       "      <td>Richard Bain</td>\n",
       "      <td>RB@gmail.com</td>\n",
       "    </tr>\n",
       "    <tr>\n",
       "      <th>3</th>\n",
       "      <td>8f41c07f-db4f-44f3-ae81-1f99cee047eb</td>\n",
       "      <td>Kristi Mccarthy</td>\n",
       "      <td>KM@gmail.com</td>\n",
       "    </tr>\n",
       "    <tr>\n",
       "      <th>4</th>\n",
       "      <td>3af8d78b-55c4-4ac0-8161-7cc3f6ec11c9</td>\n",
       "      <td>Betty Ellis</td>\n",
       "      <td>BE@gmail.com</td>\n",
       "    </tr>\n",
       "  </tbody>\n",
       "</table>\n",
       "</div>"
      ],
      "text/plain": [
       "                                User ID             Name         Email\n",
       "0  4c731e48-0377-4d7d-b4c8-b2174b774ed8        Gary Hill  GHbnuothhymw\n",
       "1  95258c36-5b6b-4591-85ee-0c43f503c1d5  Michael Deering  MD@gmail.com\n",
       "2  a8229d24-f219-4930-a382-24049a8f73bb     Richard Bain  RB@gmail.com\n",
       "3  8f41c07f-db4f-44f3-ae81-1f99cee047eb  Kristi Mccarthy  KM@gmail.com\n",
       "4  3af8d78b-55c4-4ac0-8161-7cc3f6ec11c9      Betty Ellis  BE@gmail.com"
      ]
     },
     "execution_count": 25,
     "metadata": {},
     "output_type": "execute_result"
    }
   ],
   "source": [
    "User.head(5)"
   ]
  },
  {
   "cell_type": "code",
   "execution_count": 26,
   "id": "87a1c40c",
   "metadata": {},
   "outputs": [
    {
     "name": "stdout",
     "output_type": "stream",
     "text": [
      "<class 'pandas.core.frame.DataFrame'>\n",
      "Int64Index: 500 entries, 0 to 499\n",
      "Data columns (total 3 columns):\n",
      " #   Column   Non-Null Count  Dtype \n",
      "---  ------   --------------  ----- \n",
      " 0   User ID  500 non-null    object\n",
      " 1   Name     500 non-null    object\n",
      " 2   Email    500 non-null    object\n",
      "dtypes: object(3)\n",
      "memory usage: 15.6+ KB\n"
     ]
    },
    {
     "data": {
      "text/plain": [
       "User ID    0\n",
       "Name       0\n",
       "Email      0\n",
       "dtype: int64"
      ]
     },
     "execution_count": 26,
     "metadata": {},
     "output_type": "execute_result"
    }
   ],
   "source": [
    "User.info()\n",
    "User.isna().sum()"
   ]
  },
  {
   "cell_type": "markdown",
   "id": "c966e0cb",
   "metadata": {},
   "source": [
    "# Data Cleaning"
   ]
  },
  {
   "cell_type": "code",
   "execution_count": 27,
   "id": "157a45ad",
   "metadata": {},
   "outputs": [],
   "source": [
    "# Content Table: remove the 'URL' Column since it is not needed for data analysis\n",
    "Content.drop('URL', axis='columns', inplace=True)"
   ]
  },
  {
   "cell_type": "code",
   "execution_count": 28,
   "id": "9e86b906",
   "metadata": {},
   "outputs": [
    {
     "data": {
      "text/plain": [
       "technology           71\n",
       "travel               67\n",
       "animals              67\n",
       "culture              63\n",
       "science              63\n",
       "food                 61\n",
       "fitness              61\n",
       "healthy eating       61\n",
       "cooking              60\n",
       "tennis               58\n",
       "soccer               58\n",
       "education            57\n",
       "dogs                 56\n",
       "studying             55\n",
       "public speaking      48\n",
       "veganism             48\n",
       "Fitness               5\n",
       "Animals               4\n",
       "Science               4\n",
       "\"soccer\"              3\n",
       "\"culture\"             3\n",
       "Soccer                3\n",
       "\"dogs\"                2\n",
       "Studying              2\n",
       "Education             2\n",
       "Travel                2\n",
       "Food                  2\n",
       "Healthy Eating        1\n",
       "\"tennis\"              1\n",
       "\"food\"                1\n",
       "Public Speaking       1\n",
       "\"public speaking\"     1\n",
       "Technology            1\n",
       "\"studying\"            1\n",
       "\"animals\"             1\n",
       "Culture               1\n",
       "\"veganism\"            1\n",
       "\"technology\"          1\n",
       "Veganism              1\n",
       "\"science\"             1\n",
       "\"cooking\"             1\n",
       "Name: Category, dtype: int64"
      ]
     },
     "execution_count": 28,
     "metadata": {},
     "output_type": "execute_result"
    }
   ],
   "source": [
    "Content.Category.value_counts()"
   ]
  },
  {
   "cell_type": "code",
   "execution_count": 29,
   "id": "f0428075",
   "metadata": {},
   "outputs": [
    {
     "data": {
      "text/plain": [
       "technology         73\n",
       "animals            72\n",
       "travel             69\n",
       "science            68\n",
       "culture            67\n",
       "fitness            66\n",
       "soccer             64\n",
       "food               64\n",
       "healthy eating     62\n",
       "cooking            61\n",
       "tennis             59\n",
       "education          59\n",
       "studying           58\n",
       "dogs               58\n",
       "public speaking    50\n",
       "veganism           50\n",
       "Name: Category, dtype: int64"
      ]
     },
     "execution_count": 29,
     "metadata": {},
     "output_type": "execute_result"
    }
   ],
   "source": [
    "# Content Table: Remove \" and lowercase all values in \"Category\"\n",
    "Content.Category = Content.Category.str.strip('\"').str.strip().str.lower()\n",
    "Content.Category.value_counts()"
   ]
  },
  {
   "cell_type": "code",
   "execution_count": 30,
   "id": "94acdf74",
   "metadata": {},
   "outputs": [],
   "source": [
    "# Reactions Table: drop all records with null value\n",
    "Reactions.dropna(inplace=True)"
   ]
  },
  {
   "cell_type": "code",
   "execution_count": 31,
   "id": "38a439f1",
   "metadata": {},
   "outputs": [
    {
     "data": {
      "text/html": [
       "<div>\n",
       "<style scoped>\n",
       "    .dataframe tbody tr th:only-of-type {\n",
       "        vertical-align: middle;\n",
       "    }\n",
       "\n",
       "    .dataframe tbody tr th {\n",
       "        vertical-align: top;\n",
       "    }\n",
       "\n",
       "    .dataframe thead th {\n",
       "        text-align: right;\n",
       "    }\n",
       "</style>\n",
       "<table border=\"1\" class=\"dataframe\">\n",
       "  <thead>\n",
       "    <tr style=\"text-align: right;\">\n",
       "      <th></th>\n",
       "      <th>User ID</th>\n",
       "      <th>Name</th>\n",
       "      <th>Email</th>\n",
       "    </tr>\n",
       "  </thead>\n",
       "  <tbody>\n",
       "    <tr>\n",
       "      <th>1</th>\n",
       "      <td>95258c36-5b6b-4591-85ee-0c43f503c1d5</td>\n",
       "      <td>Michael Deering</td>\n",
       "      <td>MD@gmail.com</td>\n",
       "    </tr>\n",
       "    <tr>\n",
       "      <th>2</th>\n",
       "      <td>a8229d24-f219-4930-a382-24049a8f73bb</td>\n",
       "      <td>Richard Bain</td>\n",
       "      <td>RB@gmail.com</td>\n",
       "    </tr>\n",
       "    <tr>\n",
       "      <th>3</th>\n",
       "      <td>8f41c07f-db4f-44f3-ae81-1f99cee047eb</td>\n",
       "      <td>Kristi Mccarthy</td>\n",
       "      <td>KM@gmail.com</td>\n",
       "    </tr>\n",
       "    <tr>\n",
       "      <th>4</th>\n",
       "      <td>3af8d78b-55c4-4ac0-8161-7cc3f6ec11c9</td>\n",
       "      <td>Betty Ellis</td>\n",
       "      <td>BE@gmail.com</td>\n",
       "    </tr>\n",
       "    <tr>\n",
       "      <th>5</th>\n",
       "      <td>2bd9c167-e06c-47c1-a978-3403d6724606</td>\n",
       "      <td>Hazel Neville</td>\n",
       "      <td>HN@gmail.com</td>\n",
       "    </tr>\n",
       "  </tbody>\n",
       "</table>\n",
       "</div>"
      ],
      "text/plain": [
       "                                User ID             Name         Email\n",
       "1  95258c36-5b6b-4591-85ee-0c43f503c1d5  Michael Deering  MD@gmail.com\n",
       "2  a8229d24-f219-4930-a382-24049a8f73bb     Richard Bain  RB@gmail.com\n",
       "3  8f41c07f-db4f-44f3-ae81-1f99cee047eb  Kristi Mccarthy  KM@gmail.com\n",
       "4  3af8d78b-55c4-4ac0-8161-7cc3f6ec11c9      Betty Ellis  BE@gmail.com\n",
       "5  2bd9c167-e06c-47c1-a978-3403d6724606    Hazel Neville  HN@gmail.com"
      ]
     },
     "execution_count": 31,
     "metadata": {},
     "output_type": "execute_result"
    }
   ],
   "source": [
    "# User Table: drop records with invaild email\n",
    "import re \n",
    "regex_patern = r'([A-Za-z0-9]+[.-_])*[A-Za-z0-9]+@[A-Za-z0-9-]+(\\.[A-Z|a-z]{2,})+'\n",
    "User = User[User.Email.str.match(regex_patern) == True]\n",
    "User.head()"
   ]
  },
  {
   "cell_type": "code",
   "execution_count": 32,
   "id": "32284c30",
   "metadata": {},
   "outputs": [
    {
     "data": {
      "text/plain": [
       "Motorola     77\n",
       "Microsoft    77\n",
       "Huawei       74\n",
       "HTC          72\n",
       "Apple        68\n",
       "Samsung      65\n",
       "Google       61\n",
       "Name: Device, dtype: int64"
      ]
     },
     "execution_count": 32,
     "metadata": {},
     "output_type": "execute_result"
    }
   ],
   "source": [
    "# Session Table: drop records with invalid 'Device' name\n",
    "l = [\"sbnnz\", \"thbhn\", \"ouafw\", \"dcppv\", \"xtzqw\",\"qxugb\"]\n",
    "Session =  Session[~Session.Device.isin(l)]\n",
    "Session.Device.value_counts()"
   ]
  },
  {
   "cell_type": "code",
   "execution_count": 33,
   "id": "002ca235",
   "metadata": {},
   "outputs": [],
   "source": [
    "# Session Table: drop records with Duration = 0\n",
    "Session = Session[Session.Duration != 0]"
   ]
  },
  {
   "cell_type": "markdown",
   "id": "232fd132",
   "metadata": {},
   "source": [
    "# Save Cleaned Data"
   ]
  },
  {
   "cell_type": "code",
   "execution_count": 34,
   "id": "997d2e30",
   "metadata": {},
   "outputs": [],
   "source": [
    "Content.to_csv('Content_Cleaned.csv', index=False)"
   ]
  },
  {
   "cell_type": "markdown",
   "id": "e5c2ef19",
   "metadata": {},
   "source": [
    "# Data Modeling\n",
    "\n",
    "Client wanted to know **\"An analysis of their content categories showing the top 5 categories with the largest aggregate popularity\"**\n",
    "\n",
    "To find the categories with the greatest popularity, we need to sum up which content categories have the largest aggregated Score.\n",
    "\n",
    "Thus the dataset should combined the following tables:\n",
    "1) Content\n",
    "2) Reaction\n",
    "3) ReactionTypes\n",
    "\n"
   ]
  },
  {
   "cell_type": "markdown",
   "id": "f5bc378d",
   "metadata": {},
   "source": [
    "**JOIN Tables**"
   ]
  },
  {
   "cell_type": "code",
   "execution_count": 37,
   "id": "6a9055b4",
   "metadata": {},
   "outputs": [],
   "source": [
    "join_1 = Reactions.merge(Content, on='Content ID', suffixes=(\"_Reactions\",\"_Content\"))"
   ]
  },
  {
   "cell_type": "code",
   "execution_count": 38,
   "id": "cc681ded",
   "metadata": {},
   "outputs": [
    {
     "data": {
      "text/html": [
       "<div>\n",
       "<style scoped>\n",
       "    .dataframe tbody tr th:only-of-type {\n",
       "        vertical-align: middle;\n",
       "    }\n",
       "\n",
       "    .dataframe tbody tr th {\n",
       "        vertical-align: top;\n",
       "    }\n",
       "\n",
       "    .dataframe thead th {\n",
       "        text-align: right;\n",
       "    }\n",
       "</style>\n",
       "<table border=\"1\" class=\"dataframe\">\n",
       "  <thead>\n",
       "    <tr style=\"text-align: right;\">\n",
       "      <th></th>\n",
       "      <th>Content ID</th>\n",
       "      <th>User ID_Reactions</th>\n",
       "      <th>Type_Reactions</th>\n",
       "      <th>Datetime</th>\n",
       "      <th>User ID_Content</th>\n",
       "      <th>Type_Content</th>\n",
       "      <th>Category</th>\n",
       "    </tr>\n",
       "  </thead>\n",
       "  <tbody>\n",
       "    <tr>\n",
       "      <th>0</th>\n",
       "      <td>97522e57-d9ab-4bd6-97bf-c24d952602d2</td>\n",
       "      <td>5d454588-283d-459d-915d-c48a2cb4c27f</td>\n",
       "      <td>disgust</td>\n",
       "      <td>2020-11-07 09:43:50</td>\n",
       "      <td>8d3cd87d-8a31-4935-9a4f-b319bfe05f31</td>\n",
       "      <td>photo</td>\n",
       "      <td>studying</td>\n",
       "    </tr>\n",
       "    <tr>\n",
       "      <th>1</th>\n",
       "      <td>97522e57-d9ab-4bd6-97bf-c24d952602d2</td>\n",
       "      <td>92b87fa5-f271-43e0-af66-84fac21052e6</td>\n",
       "      <td>dislike</td>\n",
       "      <td>2021-06-17 12:22:51</td>\n",
       "      <td>8d3cd87d-8a31-4935-9a4f-b319bfe05f31</td>\n",
       "      <td>photo</td>\n",
       "      <td>studying</td>\n",
       "    </tr>\n",
       "    <tr>\n",
       "      <th>2</th>\n",
       "      <td>97522e57-d9ab-4bd6-97bf-c24d952602d2</td>\n",
       "      <td>163daa38-8b77-48c9-9af6-37a6c1447ac2</td>\n",
       "      <td>scared</td>\n",
       "      <td>2021-04-18 05:13:58</td>\n",
       "      <td>8d3cd87d-8a31-4935-9a4f-b319bfe05f31</td>\n",
       "      <td>photo</td>\n",
       "      <td>studying</td>\n",
       "    </tr>\n",
       "    <tr>\n",
       "      <th>3</th>\n",
       "      <td>97522e57-d9ab-4bd6-97bf-c24d952602d2</td>\n",
       "      <td>34e8add9-0206-47fd-a501-037b994650a2</td>\n",
       "      <td>disgust</td>\n",
       "      <td>2021-01-06 19:13:01</td>\n",
       "      <td>8d3cd87d-8a31-4935-9a4f-b319bfe05f31</td>\n",
       "      <td>photo</td>\n",
       "      <td>studying</td>\n",
       "    </tr>\n",
       "    <tr>\n",
       "      <th>4</th>\n",
       "      <td>97522e57-d9ab-4bd6-97bf-c24d952602d2</td>\n",
       "      <td>9b6d35f9-5e15-4cd0-a8d7-b1f3340e02c4</td>\n",
       "      <td>interested</td>\n",
       "      <td>2020-08-23 12:25:58</td>\n",
       "      <td>8d3cd87d-8a31-4935-9a4f-b319bfe05f31</td>\n",
       "      <td>photo</td>\n",
       "      <td>studying</td>\n",
       "    </tr>\n",
       "  </tbody>\n",
       "</table>\n",
       "</div>"
      ],
      "text/plain": [
       "                             Content ID                     User ID_Reactions  \\\n",
       "0  97522e57-d9ab-4bd6-97bf-c24d952602d2  5d454588-283d-459d-915d-c48a2cb4c27f   \n",
       "1  97522e57-d9ab-4bd6-97bf-c24d952602d2  92b87fa5-f271-43e0-af66-84fac21052e6   \n",
       "2  97522e57-d9ab-4bd6-97bf-c24d952602d2  163daa38-8b77-48c9-9af6-37a6c1447ac2   \n",
       "3  97522e57-d9ab-4bd6-97bf-c24d952602d2  34e8add9-0206-47fd-a501-037b994650a2   \n",
       "4  97522e57-d9ab-4bd6-97bf-c24d952602d2  9b6d35f9-5e15-4cd0-a8d7-b1f3340e02c4   \n",
       "\n",
       "  Type_Reactions            Datetime                       User ID_Content  \\\n",
       "0        disgust 2020-11-07 09:43:50  8d3cd87d-8a31-4935-9a4f-b319bfe05f31   \n",
       "1        dislike 2021-06-17 12:22:51  8d3cd87d-8a31-4935-9a4f-b319bfe05f31   \n",
       "2         scared 2021-04-18 05:13:58  8d3cd87d-8a31-4935-9a4f-b319bfe05f31   \n",
       "3        disgust 2021-01-06 19:13:01  8d3cd87d-8a31-4935-9a4f-b319bfe05f31   \n",
       "4     interested 2020-08-23 12:25:58  8d3cd87d-8a31-4935-9a4f-b319bfe05f31   \n",
       "\n",
       "  Type_Content  Category  \n",
       "0        photo  studying  \n",
       "1        photo  studying  \n",
       "2        photo  studying  \n",
       "3        photo  studying  \n",
       "4        photo  studying  "
      ]
     },
     "execution_count": 38,
     "metadata": {},
     "output_type": "execute_result"
    }
   ],
   "source": [
    "join_1.head(5)"
   ]
  },
  {
   "cell_type": "code",
   "execution_count": 40,
   "id": "b98097e3",
   "metadata": {},
   "outputs": [],
   "source": [
    "join_2 = join_1.merge(ReactionTypes, left_on='Type_Reactions', right_on='Type', suffixes=(\"_Reactions\",\"_ReactionTypes\"))"
   ]
  },
  {
   "cell_type": "code",
   "execution_count": 41,
   "id": "dd464c67",
   "metadata": {},
   "outputs": [
    {
     "data": {
      "text/html": [
       "<div>\n",
       "<style scoped>\n",
       "    .dataframe tbody tr th:only-of-type {\n",
       "        vertical-align: middle;\n",
       "    }\n",
       "\n",
       "    .dataframe tbody tr th {\n",
       "        vertical-align: top;\n",
       "    }\n",
       "\n",
       "    .dataframe thead th {\n",
       "        text-align: right;\n",
       "    }\n",
       "</style>\n",
       "<table border=\"1\" class=\"dataframe\">\n",
       "  <thead>\n",
       "    <tr style=\"text-align: right;\">\n",
       "      <th></th>\n",
       "      <th>Content ID</th>\n",
       "      <th>User ID_Reactions</th>\n",
       "      <th>Type_Reactions</th>\n",
       "      <th>Datetime</th>\n",
       "      <th>User ID_Content</th>\n",
       "      <th>Type_Content</th>\n",
       "      <th>Category</th>\n",
       "      <th>Type</th>\n",
       "      <th>Sentiment</th>\n",
       "      <th>Score</th>\n",
       "    </tr>\n",
       "  </thead>\n",
       "  <tbody>\n",
       "    <tr>\n",
       "      <th>0</th>\n",
       "      <td>97522e57-d9ab-4bd6-97bf-c24d952602d2</td>\n",
       "      <td>5d454588-283d-459d-915d-c48a2cb4c27f</td>\n",
       "      <td>disgust</td>\n",
       "      <td>2020-11-07 09:43:50</td>\n",
       "      <td>8d3cd87d-8a31-4935-9a4f-b319bfe05f31</td>\n",
       "      <td>photo</td>\n",
       "      <td>studying</td>\n",
       "      <td>disgust</td>\n",
       "      <td>negative</td>\n",
       "      <td>0</td>\n",
       "    </tr>\n",
       "    <tr>\n",
       "      <th>1</th>\n",
       "      <td>97522e57-d9ab-4bd6-97bf-c24d952602d2</td>\n",
       "      <td>34e8add9-0206-47fd-a501-037b994650a2</td>\n",
       "      <td>disgust</td>\n",
       "      <td>2021-01-06 19:13:01</td>\n",
       "      <td>8d3cd87d-8a31-4935-9a4f-b319bfe05f31</td>\n",
       "      <td>photo</td>\n",
       "      <td>studying</td>\n",
       "      <td>disgust</td>\n",
       "      <td>negative</td>\n",
       "      <td>0</td>\n",
       "    </tr>\n",
       "    <tr>\n",
       "      <th>2</th>\n",
       "      <td>97522e57-d9ab-4bd6-97bf-c24d952602d2</td>\n",
       "      <td>13c06e7e-833d-47eb-a790-5e09ccfd8d2c</td>\n",
       "      <td>disgust</td>\n",
       "      <td>2021-04-09 02:46:20</td>\n",
       "      <td>8d3cd87d-8a31-4935-9a4f-b319bfe05f31</td>\n",
       "      <td>photo</td>\n",
       "      <td>studying</td>\n",
       "      <td>disgust</td>\n",
       "      <td>negative</td>\n",
       "      <td>0</td>\n",
       "    </tr>\n",
       "    <tr>\n",
       "      <th>3</th>\n",
       "      <td>9f737e0a-3cdd-4d29-9d24-753f4e3be810</td>\n",
       "      <td>8b49caad-bcc5-43de-bf40-34a66ff8805c</td>\n",
       "      <td>disgust</td>\n",
       "      <td>2021-03-28 21:15:26</td>\n",
       "      <td>beb1f34e-7870-46d6-9fc7-2e12eb83ce43</td>\n",
       "      <td>photo</td>\n",
       "      <td>healthy eating</td>\n",
       "      <td>disgust</td>\n",
       "      <td>negative</td>\n",
       "      <td>0</td>\n",
       "    </tr>\n",
       "    <tr>\n",
       "      <th>4</th>\n",
       "      <td>230c4e4d-70c3-461d-b42c-ec09396efb3f</td>\n",
       "      <td>ef147ea5-9696-44d5-b6c2-a43f62fd8ce2</td>\n",
       "      <td>disgust</td>\n",
       "      <td>2020-08-04 05:40:33</td>\n",
       "      <td>a5c65404-5894-4b87-82f2-d787cbee86b4</td>\n",
       "      <td>photo</td>\n",
       "      <td>healthy eating</td>\n",
       "      <td>disgust</td>\n",
       "      <td>negative</td>\n",
       "      <td>0</td>\n",
       "    </tr>\n",
       "  </tbody>\n",
       "</table>\n",
       "</div>"
      ],
      "text/plain": [
       "                             Content ID                     User ID_Reactions  \\\n",
       "0  97522e57-d9ab-4bd6-97bf-c24d952602d2  5d454588-283d-459d-915d-c48a2cb4c27f   \n",
       "1  97522e57-d9ab-4bd6-97bf-c24d952602d2  34e8add9-0206-47fd-a501-037b994650a2   \n",
       "2  97522e57-d9ab-4bd6-97bf-c24d952602d2  13c06e7e-833d-47eb-a790-5e09ccfd8d2c   \n",
       "3  9f737e0a-3cdd-4d29-9d24-753f4e3be810  8b49caad-bcc5-43de-bf40-34a66ff8805c   \n",
       "4  230c4e4d-70c3-461d-b42c-ec09396efb3f  ef147ea5-9696-44d5-b6c2-a43f62fd8ce2   \n",
       "\n",
       "  Type_Reactions            Datetime                       User ID_Content  \\\n",
       "0        disgust 2020-11-07 09:43:50  8d3cd87d-8a31-4935-9a4f-b319bfe05f31   \n",
       "1        disgust 2021-01-06 19:13:01  8d3cd87d-8a31-4935-9a4f-b319bfe05f31   \n",
       "2        disgust 2021-04-09 02:46:20  8d3cd87d-8a31-4935-9a4f-b319bfe05f31   \n",
       "3        disgust 2021-03-28 21:15:26  beb1f34e-7870-46d6-9fc7-2e12eb83ce43   \n",
       "4        disgust 2020-08-04 05:40:33  a5c65404-5894-4b87-82f2-d787cbee86b4   \n",
       "\n",
       "  Type_Content        Category     Type Sentiment  Score  \n",
       "0        photo        studying  disgust  negative      0  \n",
       "1        photo        studying  disgust  negative      0  \n",
       "2        photo        studying  disgust  negative      0  \n",
       "3        photo  healthy eating  disgust  negative      0  \n",
       "4        photo  healthy eating  disgust  negative      0  "
      ]
     },
     "execution_count": 41,
     "metadata": {},
     "output_type": "execute_result"
    }
   ],
   "source": [
    "join_2.head(5)"
   ]
  },
  {
   "cell_type": "code",
   "execution_count": 43,
   "id": "b738d54c",
   "metadata": {},
   "outputs": [
    {
     "name": "stdout",
     "output_type": "stream",
     "text": [
      "<class 'pandas.core.frame.DataFrame'>\n",
      "Int64Index: 22534 entries, 0 to 22533\n",
      "Data columns (total 10 columns):\n",
      " #   Column             Non-Null Count  Dtype         \n",
      "---  ------             --------------  -----         \n",
      " 0   Content ID         22534 non-null  object        \n",
      " 1   User ID_Reactions  22534 non-null  object        \n",
      " 2   Type_Reactions     22534 non-null  object        \n",
      " 3   Datetime           22534 non-null  datetime64[ns]\n",
      " 4   User ID_Content    22534 non-null  object        \n",
      " 5   Type_Content       22534 non-null  object        \n",
      " 6   Category           22534 non-null  object        \n",
      " 7   Type               22534 non-null  object        \n",
      " 8   Sentiment          22534 non-null  object        \n",
      " 9   Score              22534 non-null  int64         \n",
      "dtypes: datetime64[ns](1), int64(1), object(8)\n",
      "memory usage: 1.9+ MB\n"
     ]
    }
   ],
   "source": [
    "join_2.info()"
   ]
  },
  {
   "cell_type": "markdown",
   "id": "9f17a562",
   "metadata": {},
   "source": [
    "# Save Final Dataset to CVS"
   ]
  },
  {
   "cell_type": "code",
   "execution_count": 44,
   "id": "624f845e",
   "metadata": {},
   "outputs": [],
   "source": [
    "join_2.to_csv('FinalDataSet.csv', index=False)"
   ]
  },
  {
   "cell_type": "code",
   "execution_count": 46,
   "id": "ef43503d",
   "metadata": {},
   "outputs": [
    {
     "name": "stdout",
     "output_type": "stream",
     "text": [
      "['studying' 'healthy eating' 'dogs' 'public speaking' 'science' 'tennis'\n",
      " 'food' 'fitness' 'soccer' 'education' 'travel' 'veganism' 'cooking'\n",
      " 'technology' 'animals' 'culture']\n"
     ]
    }
   ],
   "source": [
    "print(join_2.Category.unique())"
   ]
  },
  {
   "cell_type": "code",
   "execution_count": 47,
   "id": "e1eea27b",
   "metadata": {},
   "outputs": [
    {
     "data": {
      "text/plain": [
       "animals            1738\n",
       "science            1646\n",
       "healthy eating     1572\n",
       "technology         1557\n",
       "food               1556\n",
       "culture            1538\n",
       "cooking            1525\n",
       "travel             1510\n",
       "soccer             1339\n",
       "education          1311\n",
       "fitness            1284\n",
       "studying           1251\n",
       "dogs               1227\n",
       "tennis             1218\n",
       "veganism           1146\n",
       "public speaking    1116\n",
       "Name: Category, dtype: int64"
      ]
     },
     "execution_count": 47,
     "metadata": {},
     "output_type": "execute_result"
    }
   ],
   "source": [
    "join_2.Category.value_counts()"
   ]
  },
  {
   "cell_type": "markdown",
   "id": "bd39eb5a",
   "metadata": {},
   "source": [
    "**Group by 'Category' and sum up the Score for each Category**\n",
    "\n",
    "**Show the top 5 records**"
   ]
  },
  {
   "cell_type": "code",
   "execution_count": 60,
   "id": "411b8acd",
   "metadata": {},
   "outputs": [
    {
     "data": {
      "text/html": [
       "<div>\n",
       "<style scoped>\n",
       "    .dataframe tbody tr th:only-of-type {\n",
       "        vertical-align: middle;\n",
       "    }\n",
       "\n",
       "    .dataframe tbody tr th {\n",
       "        vertical-align: top;\n",
       "    }\n",
       "\n",
       "    .dataframe thead th {\n",
       "        text-align: right;\n",
       "    }\n",
       "</style>\n",
       "<table border=\"1\" class=\"dataframe\">\n",
       "  <thead>\n",
       "    <tr style=\"text-align: right;\">\n",
       "      <th></th>\n",
       "      <th>Score</th>\n",
       "    </tr>\n",
       "    <tr>\n",
       "      <th>Category</th>\n",
       "      <th></th>\n",
       "    </tr>\n",
       "  </thead>\n",
       "  <tbody>\n",
       "    <tr>\n",
       "      <th>animals</th>\n",
       "      <td>68624</td>\n",
       "    </tr>\n",
       "    <tr>\n",
       "      <th>science</th>\n",
       "      <td>65405</td>\n",
       "    </tr>\n",
       "    <tr>\n",
       "      <th>healthy eating</th>\n",
       "      <td>63138</td>\n",
       "    </tr>\n",
       "    <tr>\n",
       "      <th>technology</th>\n",
       "      <td>63035</td>\n",
       "    </tr>\n",
       "    <tr>\n",
       "      <th>food</th>\n",
       "      <td>61598</td>\n",
       "    </tr>\n",
       "  </tbody>\n",
       "</table>\n",
       "</div>"
      ],
      "text/plain": [
       "                Score\n",
       "Category             \n",
       "animals         68624\n",
       "science         65405\n",
       "healthy eating  63138\n",
       "technology      63035\n",
       "food            61598"
      ]
     },
     "execution_count": 60,
     "metadata": {},
     "output_type": "execute_result"
    }
   ],
   "source": [
    "Top5_Category = join_2.groupby(['Category']).sum().nlargest(n=5,columns=['Score'])\n",
    "Top5_Category"
   ]
  },
  {
   "cell_type": "code",
   "execution_count": 61,
   "id": "0078be08",
   "metadata": {},
   "outputs": [],
   "source": [
    "Top5_Category.to_csv('Top5_Category.csv', index=True)"
   ]
  },
  {
   "cell_type": "code",
   "execution_count": null,
   "id": "fc0b0c41",
   "metadata": {},
   "outputs": [],
   "source": []
  },
  {
   "cell_type": "code",
   "execution_count": null,
   "id": "48718d6a",
   "metadata": {},
   "outputs": [],
   "source": []
  },
  {
   "cell_type": "code",
   "execution_count": null,
   "id": "8dc1bf37",
   "metadata": {},
   "outputs": [],
   "source": []
  }
 ],
 "metadata": {
  "kernelspec": {
   "display_name": "PythonData",
   "language": "python",
   "name": "pythondata"
  },
  "language_info": {
   "codemirror_mode": {
    "name": "ipython",
    "version": 3
   },
   "file_extension": ".py",
   "mimetype": "text/x-python",
   "name": "python",
   "nbconvert_exporter": "python",
   "pygments_lexer": "ipython3",
   "version": "3.7.10"
  }
 },
 "nbformat": 4,
 "nbformat_minor": 5
}
